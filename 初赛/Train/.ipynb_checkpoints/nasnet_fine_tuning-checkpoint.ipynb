{
 "cells": [
  {
   "cell_type": "code",
   "execution_count": 1,
   "metadata": {
    "ExecuteTime": {
     "end_time": "2018-04-07T17:23:15.079234Z",
     "start_time": "2018-04-07T17:23:14.228909Z"
    },
    "collapsed": false
   },
   "outputs": [
    {
     "name": "stderr",
     "output_type": "stream",
     "text": [
      "Using TensorFlow backend.\n"
     ]
    }
   ],
   "source": [
    "import os\n",
    "os.environ['CUDA_VISIBLE_DEVICES'] = '1'\n",
    "n_gpus = 1\n",
    "model_name = 'nasnet_fine_tuning_8clf_2'\n",
    "\n",
    "import keras.backend as K\n",
    "import tensorflow as tf\n",
    "\n",
    "# gpu_options = tf.GPUOptions(per_process_gpu_memory_fraction=0.8)\n",
    "# sess = tf.Session(config=tf.ConfigProto(gpu_options=gpu_options))"
   ]
  },
  {
   "cell_type": "markdown",
   "metadata": {},
   "source": [
    "# 导入必要的库"
   ]
  },
  {
   "cell_type": "code",
   "execution_count": 2,
   "metadata": {
    "ExecuteTime": {
     "end_time": "2018-04-07T17:23:15.316079Z",
     "start_time": "2018-04-07T17:23:15.080390Z"
    },
    "collapsed": false
   },
   "outputs": [],
   "source": [
    "import numpy as np\n",
    "import pandas as pd\n",
    "from keras.layers import *\n",
    "from keras.models import *\n",
    "from keras.optimizers import *\n",
    "from keras.applications import *\n",
    "from keras.regularizers import l2\n",
    "\n",
    "from keras.preprocessing.image import *\n",
    "\n",
    "import matplotlib.pyplot as plt\n",
    "import random\n",
    "import os\n",
    "import cv2\n",
    "from tqdm import tqdm\n",
    "from glob import glob\n",
    "import multiprocessing\n",
    "\n",
    "from sklearn.cross_validation import train_test_split\n",
    "from collections import Counter\n",
    "from keras import backend as K\n",
    "from keras.utils import multi_gpu_model\n",
    "\n",
    "from IPython.display import display, Image\n",
    "\n",
    "%matplotlib inline\n",
    "%config InlineBackend.figure_format = 'retina'"
   ]
  },
  {
   "cell_type": "markdown",
   "metadata": {},
   "source": [
    "# 读取数据集"
   ]
  },
  {
   "cell_type": "code",
   "execution_count": 3,
   "metadata": {
    "ExecuteTime": {
     "end_time": "2018-04-07T17:23:15.472275Z",
     "start_time": "2018-04-07T17:23:15.317186Z"
    },
    "collapsed": false
   },
   "outputs": [
    {
     "data": {
      "text/html": [
       "<div>\n",
       "<table border=\"1\" class=\"dataframe\">\n",
       "  <thead>\n",
       "    <tr style=\"text-align: right;\">\n",
       "      <th></th>\n",
       "      <th>filename</th>\n",
       "      <th>label_name</th>\n",
       "      <th>label</th>\n",
       "    </tr>\n",
       "  </thead>\n",
       "  <tbody>\n",
       "    <tr>\n",
       "      <th>0</th>\n",
       "      <td>Images/lapel_design_labels/ddef79218cdae750f53...</td>\n",
       "      <td>lapel_design</td>\n",
       "      <td>nnnyn</td>\n",
       "    </tr>\n",
       "    <tr>\n",
       "      <th>1</th>\n",
       "      <td>Images/skirt_length_labels/dd3fc91c81ba078c3b8...</td>\n",
       "      <td>skirt_length</td>\n",
       "      <td>nnynnn</td>\n",
       "    </tr>\n",
       "    <tr>\n",
       "      <th>2</th>\n",
       "      <td>Images/skirt_length_labels/4cd5985da312b1d89d1...</td>\n",
       "      <td>skirt_length</td>\n",
       "      <td>ynnnnn</td>\n",
       "    </tr>\n",
       "    <tr>\n",
       "      <th>3</th>\n",
       "      <td>Images/pant_length_labels/e38207a4128801be5bec...</td>\n",
       "      <td>pant_length</td>\n",
       "      <td>nnnnyn</td>\n",
       "    </tr>\n",
       "    <tr>\n",
       "      <th>4</th>\n",
       "      <td>Images/neckline_design_labels/3aa80fa689b929bc...</td>\n",
       "      <td>neckline_design</td>\n",
       "      <td>nnnnynnnnn</td>\n",
       "    </tr>\n",
       "  </tbody>\n",
       "</table>\n",
       "</div>"
      ],
      "text/plain": [
       "                                            filename       label_name  \\\n",
       "0  Images/lapel_design_labels/ddef79218cdae750f53...     lapel_design   \n",
       "1  Images/skirt_length_labels/dd3fc91c81ba078c3b8...     skirt_length   \n",
       "2  Images/skirt_length_labels/4cd5985da312b1d89d1...     skirt_length   \n",
       "3  Images/pant_length_labels/e38207a4128801be5bec...      pant_length   \n",
       "4  Images/neckline_design_labels/3aa80fa689b929bc...  neckline_design   \n",
       "\n",
       "        label  \n",
       "0       nnnyn  \n",
       "1      nnynnn  \n",
       "2      ynnnnn  \n",
       "3      nnnnyn  \n",
       "4  nnnnynnnnn  "
      ]
     },
     "metadata": {},
     "output_type": "display_data"
    },
    {
     "data": {
      "text/plain": [
       "Counter({'coat_length': 11320,\n",
       "         'collar_design': 8393,\n",
       "         'lapel_design': 7034,\n",
       "         'neck_design': 5696,\n",
       "         'neckline_design': 17148,\n",
       "         'pant_length': 7460,\n",
       "         'skirt_length': 19333,\n",
       "         'sleeve_length': 13299})"
      ]
     },
     "execution_count": 3,
     "metadata": {},
     "output_type": "execute_result"
    }
   ],
   "source": [
    "df = pd.read_csv('/ext/fashionai/Gluon-FashionAI-Attributes-master/data/base/Annotations/label_new.csv', header=None)\n",
    "df.columns = ['filename', 'label_name', 'label']\n",
    "df = df.sample(frac=1).reset_index(drop=True) # shuffle\n",
    "\n",
    "df.label_name = df.label_name.str.replace('_labels', '')\n",
    "\n",
    "display(df.head())\n",
    "c = Counter(df.label_name)\n",
    "c"
   ]
  },
  {
   "cell_type": "code",
   "execution_count": 4,
   "metadata": {
    "ExecuteTime": {
     "end_time": "2018-04-07T17:23:15.523937Z",
     "start_time": "2018-04-07T17:23:15.474352Z"
    },
    "code_folding": [],
    "collapsed": false
   },
   "outputs": [
    {
     "data": {
      "text/plain": [
       "{'coat_length': 8,\n",
       " 'collar_design': 5,\n",
       " 'lapel_design': 5,\n",
       " 'neck_design': 5,\n",
       " 'neckline_design': 10,\n",
       " 'pant_length': 6,\n",
       " 'skirt_length': 6,\n",
       " 'sleeve_length': 9}"
      ]
     },
     "metadata": {},
     "output_type": "display_data"
    }
   ],
   "source": [
    "label_count = dict([(x, len(df[df.label_name == x].label.values[0])) for x in c.keys()])\n",
    "label_names = list(label_count.keys())\n",
    "display(label_count)"
   ]
  },
  {
   "cell_type": "markdown",
   "metadata": {},
   "source": [
    "## 生成 y"
   ]
  },
  {
   "cell_type": "code",
   "execution_count": 5,
   "metadata": {
    "ExecuteTime": {
     "end_time": "2018-04-07T17:23:17.137384Z",
     "start_time": "2018-04-07T17:23:15.524971Z"
    },
    "collapsed": true
   },
   "outputs": [],
   "source": [
    "fnames = df['filename'].values\n",
    "width = 331\n",
    "n = len(df)\n",
    "y = [np.zeros((n, label_count[x])) for x in label_count.keys()]\n",
    "for i in range(n):\n",
    "    label_name = df.label_name[i]\n",
    "    label = df.label[i]\n",
    "    y[label_names.index(label_name)][i, label.find('y')] = 1"
   ]
  },
  {
   "cell_type": "markdown",
   "metadata": {},
   "source": [
    "## 读取图片"
   ]
  },
  {
   "cell_type": "code",
   "execution_count": 6,
   "metadata": {
    "ExecuteTime": {
     "end_time": "2018-04-07T17:24:15.086526Z",
     "start_time": "2018-04-07T17:23:17.140308Z"
    },
    "code_folding": [],
    "collapsed": false
   },
   "outputs": [
    {
     "name": "stderr",
     "output_type": "stream",
     "text": [
      "100%|██████████| 89683/89683 [01:06<00:00, 1353.59it/s]\n"
     ]
    }
   ],
   "source": [
    "def f(index):\n",
    "    return index, cv2.resize(cv2.imread('/ext/fashionai/Gluon-FashionAI-Attributes-master/data/base/'+fnames[index]), (width, width))\n",
    "\n",
    "X = np.zeros((n, width, width, 3), dtype=np.uint8)\n",
    "with multiprocessing.Pool(32) as pool:\n",
    "    with tqdm(pool.imap_unordered(f, range(n)), total=n) as pbar:\n",
    "        for i, img in pbar:\n",
    "            X[i] = img[:,:,::-1]"
   ]
  },
  {
   "cell_type": "code",
   "execution_count": 7,
   "metadata": {
    "ExecuteTime": {
     "end_time": "2018-04-07T17:24:15.093182Z",
     "start_time": "2018-04-07T17:24:15.088621Z"
    },
    "collapsed": true
   },
   "outputs": [],
   "source": [
    "# n_train = int(n)\n",
    "n_train = int(n*0.9)\n",
    "X_train = X[:n_train]\n",
    "X_valid = X[n_train:]\n",
    "y_train = [x[:n_train] for x in y]\n",
    "y_valid = [x[n_train:] for x in y]"
   ]
  },
  {
   "cell_type": "code",
   "execution_count": 8,
   "metadata": {
    "ExecuteTime": {
     "end_time": "2018-04-07T17:24:15.099505Z",
     "start_time": "2018-04-07T17:24:15.094585Z"
    },
    "collapsed": true
   },
   "outputs": [],
   "source": [
    "def display_images(imgs, w=8, h=4, figsize=(24, 12)):\n",
    "    plt.figure(figsize=figsize)\n",
    "    for i in range(w*h):\n",
    "        plt.subplot(h, w, i+1)\n",
    "        plt.imshow(imgs[i])"
   ]
  },
  {
   "cell_type": "code",
   "execution_count": 9,
   "metadata": {
    "ExecuteTime": {
     "end_time": "2018-04-07T17:24:15.116015Z",
     "start_time": "2018-04-07T17:24:15.100880Z"
    },
    "collapsed": true
   },
   "outputs": [],
   "source": [
    "class Generator():\n",
    "    def __init__(self, X, y, batch_size=4, aug=False):\n",
    "        def generator():\n",
    "            idg = ImageDataGenerator(horizontal_flip=True,\n",
    "                                     rotation_range=20,\n",
    "                                     zoom_range=0.2)\n",
    "            while True:\n",
    "                for i in range(0, len(X), batch_size):\n",
    "                    X_batch = X[i:i+batch_size].copy()\n",
    "                    y_barch = [x[i:i+batch_size] for x in y]\n",
    "                    if aug:\n",
    "                        for j in range(len(X_batch)):\n",
    "                            X_batch[j] = idg.random_transform(X_batch[j])\n",
    "                    yield X_batch, y_barch\n",
    "        self.generator = generator()\n",
    "        self.steps = len(X) // batch_size + 1"
   ]
  },
  {
   "cell_type": "code",
   "execution_count": 10,
   "metadata": {
    "ExecuteTime": {
     "end_time": "2018-04-07T17:24:15.123929Z",
     "start_time": "2018-04-07T17:24:15.117484Z"
    },
    "collapsed": true
   },
   "outputs": [],
   "source": [
    "gen_train = Generator(X_train, y_train, batch_size=4, aug=True)"
   ]
  },
  {
   "cell_type": "markdown",
   "metadata": {},
   "source": [
    "# 数据集探索\n",
    "\n",
    "## 类别分布"
   ]
  },
  {
   "cell_type": "code",
   "execution_count": 11,
   "metadata": {
    "ExecuteTime": {
     "end_time": "2018-04-07T17:24:15.130162Z",
     "start_time": "2018-04-07T17:24:15.125259Z"
    },
    "collapsed": true
   },
   "outputs": [],
   "source": [
    "# plt.figure(figsize=(26, 14))\n",
    "# for i in range(8):\n",
    "#     plt.subplot(2, 4, i+1)\n",
    "#     counts = Counter(y[i].argmax(axis=-1)[np.where(y[i].any(axis=-1))])\n",
    "#     pd.Series(counts).plot('bar')"
   ]
  },
  {
   "cell_type": "markdown",
   "metadata": {},
   "source": [
    "### 抽样可视化"
   ]
  },
  {
   "cell_type": "code",
   "execution_count": 12,
   "metadata": {
    "ExecuteTime": {
     "end_time": "2018-04-07T17:24:15.138224Z",
     "start_time": "2018-04-07T17:24:15.131739Z"
    },
    "collapsed": true
   },
   "outputs": [],
   "source": [
    "# plt.figure(figsize=(26, 14))\n",
    "# w = 8\n",
    "# h = 4\n",
    "# for i in range(w*h):\n",
    "#     plt.subplot(h, w, i+1)\n",
    "#     index = np.random.randint(n)\n",
    "#     plt.title(str([y[x][index].argmax() if y[x][index].any() else -1 for x in range(8) ]))\n",
    "#     plt.imshow(X[index])\n",
    "#     plt.axis('off')"
   ]
  },
  {
   "cell_type": "markdown",
   "metadata": {},
   "source": [
    "# 搭建模型并训练\n",
    "\n",
    "## 搭建模型"
   ]
  },
  {
   "cell_type": "code",
   "execution_count": 13,
   "metadata": {
    "ExecuteTime": {
     "end_time": "2018-04-07T17:24:15.145368Z",
     "start_time": "2018-04-07T17:24:15.139606Z"
    },
    "collapsed": true
   },
   "outputs": [],
   "source": [
    "def acc(y_true, y_pred):\n",
    "    index = tf.reduce_any(y_true > 0.5, axis=-1)\n",
    "    res = tf.equal(tf.argmax(y_true, axis=-1), tf.argmax(y_pred, axis=-1))\n",
    "    index = tf.cast(index, tf.float32)\n",
    "    res = tf.cast(res, tf.float32)\n",
    "    return tf.reduce_sum(res * index) / (tf.reduce_sum(index) + 1e-7)"
   ]
  },
  {
   "cell_type": "code",
   "execution_count": 14,
   "metadata": {
    "ExecuteTime": {
     "end_time": "2018-04-07T17:25:14.609365Z",
     "start_time": "2018-04-07T17:24:15.146696Z"
    },
    "collapsed": false
   },
   "outputs": [],
   "source": [
    "base_model = NASNetLarge(weights='imagenet', input_shape=(width, width, 3), include_top=False, pooling='avg')\n",
    "\n",
    "input_tensor = Input((width, width, 3))\n",
    "x = input_tensor\n",
    "x = Lambda(nasnet.preprocess_input)(x)\n",
    "x = base_model(x)\n",
    "x = Dropout(0.5)(x)\n",
    "x = [Dense(count, activation='softmax', name=name)(x) for name, count in label_count.items()]\n",
    "\n",
    "model = Model(input_tensor, x)\n",
    "model.compile(optimizer='adam', loss='categorical_crossentropy', metrics=['acc'])\n",
    "\n",
    "# from IPython.display import SVG\n",
    "# from keras.utils.vis_utils import model_to_dot, plot_model\n",
    "\n",
    "# plot_model(model, show_shapes=True, to_file='model_simple.png')\n",
    "# SVG(model_to_dot(model, show_shapes=True).create(prog='dot', format='svg'))"
   ]
  },
  {
   "cell_type": "code",
   "execution_count": 15,
   "metadata": {
    "ExecuteTime": {
     "end_time": "2018-04-07T17:27:36.541858Z",
     "start_time": "2018-04-07T17:25:14.610710Z"
    },
    "collapsed": false
   },
   "outputs": [],
   "source": [
    "# model2 = multi_gpu_model(model, n_gpus)"
   ]
  },
  {
   "cell_type": "code",
   "execution_count": 16,
   "metadata": {
    "ExecuteTime": {
     "end_time": "2018-04-07T17:27:36.545662Z",
     "start_time": "2018-04-07T17:27:36.543513Z"
    },
    "collapsed": true
   },
   "outputs": [],
   "source": [
    "# opt = SGD(1e-3, momentum=0.9, nesterov=True, decay=1e-5)"
   ]
  },
  {
   "cell_type": "code",
   "execution_count": 17,
   "metadata": {
    "ExecuteTime": {
     "end_time": "2018-04-07T19:26:22.717817Z",
     "start_time": "2018-04-07T17:27:36.547216Z"
    },
    "collapsed": false,
    "scrolled": false
   },
   "outputs": [
    {
     "name": "stdout",
     "output_type": "stream",
     "text": [
      "Epoch 1/2\n",
      "20179/20179 [==============================] - 21296s 1s/step - loss: 0.9558 - collar_design_loss: 0.0936 - lapel_design_loss: 0.0797 - pant_length_loss: 0.0636 - neck_design_loss: 0.0759 - skirt_length_loss: 0.1520 - coat_length_loss: 0.1223 - sleeve_length_loss: 0.1436 - neckline_design_loss: 0.2252 - collar_design_acc: 0.1998 - lapel_design_acc: 0.1649 - pant_length_acc: 0.2078 - neck_design_acc: 0.1206 - skirt_length_acc: 0.4653 - coat_length_acc: 0.2690 - sleeve_length_acc: 0.3018 - neckline_design_acc: 0.3378 - val_loss: 0.7968 - val_collar_design_loss: 0.0696 - val_lapel_design_loss: 0.0640 - val_pant_length_loss: 0.0535 - val_neck_design_loss: 0.0654 - val_skirt_length_loss: 0.1348 - val_coat_length_loss: 0.0989 - val_sleeve_length_loss: 0.1147 - val_neckline_design_loss: 0.1959 - val_collar_design_acc: 0.1302 - val_lapel_design_acc: 0.1073 - val_pant_length_acc: 0.1224 - val_neck_design_acc: 0.0768 - val_skirt_length_acc: 0.3040 - val_coat_length_acc: 0.1798 - val_sleeve_length_acc: 0.2074 - val_neckline_design_acc: 0.2454\n",
      "Epoch 2/2\n",
      "20179/20179 [==============================] - 21038s 1s/step - loss: 0.6262 - collar_design_loss: 0.0631 - lapel_design_loss: 0.0508 - pant_length_loss: 0.0428 - neck_design_loss: 0.0536 - skirt_length_loss: 0.1002 - coat_length_loss: 0.0839 - sleeve_length_loss: 0.0901 - neckline_design_loss: 0.1416 - collar_design_acc: 0.2459 - lapel_design_acc: 0.2158 - pant_length_acc: 0.2399 - neck_design_acc: 0.1589 - skirt_length_acc: 0.5212 - coat_length_acc: 0.3160 - sleeve_length_acc: 0.3671 - neckline_design_acc: 0.4320 - val_loss: 0.8070 - val_collar_design_loss: 0.0853 - val_lapel_design_loss: 0.0627 - val_pant_length_loss: 0.0448 - val_neck_design_loss: 0.0834 - val_skirt_length_loss: 0.1095 - val_coat_length_loss: 0.1175 - val_sleeve_length_loss: 0.1145 - val_neckline_design_loss: 0.1893 - val_collar_design_acc: 0.1349 - val_lapel_design_acc: 0.1146 - val_pant_length_acc: 0.1265 - val_neck_design_acc: 0.0755 - val_skirt_length_acc: 0.3216 - val_coat_length_acc: 0.1769 - val_sleeve_length_acc: 0.2115 - val_neckline_design_acc: 0.2647\n"
     ]
    },
    {
     "data": {
      "text/plain": [
       "<keras.callbacks.History at 0x7f60569447f0>"
      ]
     },
     "execution_count": 17,
     "metadata": {},
     "output_type": "execute_result"
    }
   ],
   "source": [
    "model.compile(optimizer=Adam(1e-4), loss='categorical_crossentropy', metrics=[acc])\n",
    "model.fit_generator(gen_train.generator, steps_per_epoch=gen_train.steps, epochs=2, validation_data=(X_valid, y_valid))"
   ]
  },
  {
   "cell_type": "code",
   "execution_count": 18,
   "metadata": {
    "ExecuteTime": {
     "end_time": "2018-04-07T22:02:58.261416Z",
     "start_time": "2018-04-07T19:26:22.719422Z"
    },
    "collapsed": false
   },
   "outputs": [
    {
     "name": "stdout",
     "output_type": "stream",
     "text": [
      "Epoch 1/3\n",
      "20179/20179 [==============================] - 21117s 1s/step - loss: 0.3834 - collar_design_loss: 0.0400 - lapel_design_loss: 0.0286 - pant_length_loss: 0.0262 - neck_design_loss: 0.0363 - skirt_length_loss: 0.0604 - coat_length_loss: 0.0527 - sleeve_length_loss: 0.0522 - neckline_design_loss: 0.0870 - collar_design_acc: 0.2757 - lapel_design_acc: 0.2439 - pant_length_acc: 0.2606 - neck_design_acc: 0.1849 - skirt_length_acc: 0.5606 - coat_length_acc: 0.3549 - sleeve_length_acc: 0.4122 - neckline_design_acc: 0.4863 - val_loss: 0.4296 - val_collar_design_loss: 0.0494 - val_lapel_design_loss: 0.0336 - val_pant_length_loss: 0.0316 - val_neck_design_loss: 0.0431 - val_skirt_length_loss: 0.0578 - val_coat_length_loss: 0.0621 - val_sleeve_length_loss: 0.0460 - val_neckline_design_loss: 0.1060 - val_collar_design_acc: 0.2770 - val_lapel_design_acc: 0.2399 - val_pant_length_acc: 0.2489 - val_neck_design_acc: 0.1863 - val_skirt_length_acc: 0.5697 - val_coat_length_acc: 0.3558 - val_sleeve_length_acc: 0.4209 - val_neckline_design_acc: 0.4866\n",
      "Epoch 2/3\n",
      "20179/20179 [==============================] - 20974s 1s/step - loss: 0.3131 - collar_design_loss: 0.0336 - lapel_design_loss: 0.0221 - pant_length_loss: 0.0223 - neck_design_loss: 0.0302 - skirt_length_loss: 0.0490 - coat_length_loss: 0.0433 - sleeve_length_loss: 0.0417 - neckline_design_loss: 0.0709 - collar_design_acc: 0.2815 - lapel_design_acc: 0.2538 - pant_length_acc: 0.2652 - neck_design_acc: 0.1930 - skirt_length_acc: 0.5716 - coat_length_acc: 0.3649 - sleeve_length_acc: 0.4228 - neckline_design_acc: 0.5018 - val_loss: 0.4330 - val_collar_design_loss: 0.0482 - val_lapel_design_loss: 0.0365 - val_pant_length_loss: 0.0315 - val_neck_design_loss: 0.0414 - val_skirt_length_loss: 0.0568 - val_coat_length_loss: 0.0647 - val_sleeve_length_loss: 0.0491 - val_neckline_design_loss: 0.1050 - val_collar_design_acc: 0.2802 - val_lapel_design_acc: 0.2386 - val_pant_length_acc: 0.2471 - val_neck_design_acc: 0.1865 - val_skirt_length_acc: 0.5733 - val_coat_length_acc: 0.3578 - val_sleeve_length_acc: 0.4209 - val_neckline_design_acc: 0.4897\n",
      "Epoch 3/3\n",
      "20179/20179 [==============================] - 20874s 1s/step - loss: 0.2697 - collar_design_loss: 0.0293 - lapel_design_loss: 0.0175 - pant_length_loss: 0.0194 - neck_design_loss: 0.0266 - skirt_length_loss: 0.0415 - coat_length_loss: 0.0379 - sleeve_length_loss: 0.0361 - neckline_design_loss: 0.0615 - collar_design_acc: 0.2879 - lapel_design_acc: 0.2597 - pant_length_acc: 0.2691 - neck_design_acc: 0.1979 - skirt_length_acc: 0.5791 - coat_length_acc: 0.3737 - sleeve_length_acc: 0.4293 - neckline_design_acc: 0.5122 - val_loss: 0.4185 - val_collar_design_loss: 0.0466 - val_lapel_design_loss: 0.0336 - val_pant_length_loss: 0.0305 - val_neck_design_loss: 0.0408 - val_skirt_length_loss: 0.0523 - val_coat_length_loss: 0.0669 - val_sleeve_length_loss: 0.0447 - val_neckline_design_loss: 0.1031 - val_collar_design_acc: 0.2790 - val_lapel_design_acc: 0.2413 - val_pant_length_acc: 0.2515 - val_neck_design_acc: 0.1867 - val_skirt_length_acc: 0.5802 - val_coat_length_acc: 0.3601 - val_sleeve_length_acc: 0.4227 - val_neckline_design_acc: 0.4935\n"
     ]
    },
    {
     "data": {
      "text/plain": [
       "<keras.callbacks.History at 0x7f6056944898>"
      ]
     },
     "execution_count": 18,
     "metadata": {},
     "output_type": "execute_result"
    }
   ],
   "source": [
    "model.compile(optimizer=Adam(1e-5), loss='categorical_crossentropy', metrics=[acc])\n",
    "model.fit_generator(gen_train.generator, steps_per_epoch=gen_train.steps, epochs=3, validation_data=(X_valid, y_valid))"
   ]
  },
  {
   "cell_type": "code",
   "execution_count": 19,
   "metadata": {
    "ExecuteTime": {
     "end_time": "2018-04-07T22:58:21.988308Z",
     "start_time": "2018-04-07T22:02:58.262769Z"
    },
    "collapsed": false
   },
   "outputs": [
    {
     "name": "stdout",
     "output_type": "stream",
     "text": [
      "Epoch 1/1\n",
      "20179/20179 [==============================] - 21058s 1s/step - loss: 0.2306 - collar_design_loss: 0.0252 - lapel_design_loss: 0.0150 - pant_length_loss: 0.0158 - neck_design_loss: 0.0227 - skirt_length_loss: 0.0347 - coat_length_loss: 0.0325 - sleeve_length_loss: 0.0306 - neckline_design_loss: 0.0541 - collar_design_acc: 0.2941 - lapel_design_acc: 0.2636 - pant_length_acc: 0.2753 - neck_design_acc: 0.2028 - skirt_length_acc: 0.5855 - coat_length_acc: 0.3811 - sleeve_length_acc: 0.4375 - neckline_design_acc: 0.5175 - val_loss: 0.4082 - val_collar_design_loss: 0.0459 - val_lapel_design_loss: 0.0347 - val_pant_length_loss: 0.0309 - val_neck_design_loss: 0.0397 - val_skirt_length_loss: 0.0498 - val_coat_length_loss: 0.0642 - val_sleeve_length_loss: 0.0433 - val_neckline_design_loss: 0.0997 - val_collar_design_acc: 0.2802 - val_lapel_design_acc: 0.2412 - val_pant_length_acc: 0.2518 - val_neck_design_acc: 0.1901 - val_skirt_length_acc: 0.5811 - val_coat_length_acc: 0.3603 - val_sleeve_length_acc: 0.4244 - val_neckline_design_acc: 0.4970\n"
     ]
    },
    {
     "data": {
      "text/plain": [
       "<keras.callbacks.History at 0x7f553435a518>"
      ]
     },
     "execution_count": 19,
     "metadata": {},
     "output_type": "execute_result"
    }
   ],
   "source": [
    "model.compile(optimizer=Adam(1e-6), loss='categorical_crossentropy', metrics=[acc])\n",
    "model.fit_generator(gen_train.generator, steps_per_epoch=gen_train.steps, epochs=1, validation_data=(X_valid, y_valid))"
   ]
  },
  {
   "cell_type": "markdown",
   "metadata": {},
   "source": [
    "# 计算验证集准确率"
   ]
  },
  {
   "cell_type": "code",
   "execution_count": 35,
   "metadata": {
    "ExecuteTime": {
     "end_time": "2018-04-07T22:58:53.275440Z",
     "start_time": "2018-04-07T22:58:21.990355Z"
    },
    "collapsed": false
   },
   "outputs": [
    {
     "ename": "RuntimeError",
     "evalue": "Unable to create attribute (Object header message is too large)",
     "output_type": "error",
     "traceback": [
      "\u001b[1;31m---------------------------------------------------------------------------\u001b[0m",
      "\u001b[1;31mRuntimeError\u001b[0m                              Traceback (most recent call last)",
      "\u001b[1;32m<ipython-input-35-f9ddb2b0931b>\u001b[0m in \u001b[0;36m<module>\u001b[1;34m()\u001b[0m\n\u001b[1;32m----> 1\u001b[1;33m \u001b[0mmodel\u001b[0m\u001b[1;33m.\u001b[0m\u001b[0msave\u001b[0m\u001b[1;33m(\u001b[0m\u001b[1;34m'model_%s.h5'\u001b[0m \u001b[1;33m%\u001b[0m \u001b[0mmodel_name\u001b[0m\u001b[1;33m)\u001b[0m\u001b[1;33m\u001b[0m\u001b[0m\n\u001b[0m",
      "\u001b[1;32m/home/taojianjun/anaconda3/lib/python3.5/site-packages/keras/engine/topology.py\u001b[0m in \u001b[0;36msave\u001b[1;34m(self, filepath, overwrite, include_optimizer)\u001b[0m\n\u001b[0;32m   2578\u001b[0m         \"\"\"\n\u001b[0;32m   2579\u001b[0m         \u001b[1;32mfrom\u001b[0m \u001b[1;33m.\u001b[0m\u001b[1;33m.\u001b[0m\u001b[0mmodels\u001b[0m \u001b[1;32mimport\u001b[0m \u001b[0msave_model\u001b[0m\u001b[1;33m\u001b[0m\u001b[0m\n\u001b[1;32m-> 2580\u001b[1;33m         \u001b[0msave_model\u001b[0m\u001b[1;33m(\u001b[0m\u001b[0mself\u001b[0m\u001b[1;33m,\u001b[0m \u001b[0mfilepath\u001b[0m\u001b[1;33m,\u001b[0m \u001b[0moverwrite\u001b[0m\u001b[1;33m,\u001b[0m \u001b[0minclude_optimizer\u001b[0m\u001b[1;33m)\u001b[0m\u001b[1;33m\u001b[0m\u001b[0m\n\u001b[0m\u001b[0;32m   2581\u001b[0m \u001b[1;33m\u001b[0m\u001b[0m\n\u001b[0;32m   2582\u001b[0m     \u001b[1;32mdef\u001b[0m \u001b[0msave_weights\u001b[0m\u001b[1;33m(\u001b[0m\u001b[0mself\u001b[0m\u001b[1;33m,\u001b[0m \u001b[0mfilepath\u001b[0m\u001b[1;33m,\u001b[0m \u001b[0moverwrite\u001b[0m\u001b[1;33m=\u001b[0m\u001b[1;32mTrue\u001b[0m\u001b[1;33m)\u001b[0m\u001b[1;33m:\u001b[0m\u001b[1;33m\u001b[0m\u001b[0m\n",
      "\u001b[1;32m/home/taojianjun/anaconda3/lib/python3.5/site-packages/keras/models.py\u001b[0m in \u001b[0;36msave_model\u001b[1;34m(model, filepath, overwrite, include_optimizer)\u001b[0m\n\u001b[0;32m    168\u001b[0m                                 \u001b[0mname\u001b[0m \u001b[1;33m=\u001b[0m \u001b[1;34m'param_'\u001b[0m \u001b[1;33m+\u001b[0m \u001b[0mstr\u001b[0m\u001b[1;33m(\u001b[0m\u001b[0mi\u001b[0m\u001b[1;33m)\u001b[0m\u001b[1;33m\u001b[0m\u001b[0m\n\u001b[0;32m    169\u001b[0m                         \u001b[0mweight_names\u001b[0m\u001b[1;33m.\u001b[0m\u001b[0mappend\u001b[0m\u001b[1;33m(\u001b[0m\u001b[0mname\u001b[0m\u001b[1;33m.\u001b[0m\u001b[0mencode\u001b[0m\u001b[1;33m(\u001b[0m\u001b[1;34m'utf8'\u001b[0m\u001b[1;33m)\u001b[0m\u001b[1;33m)\u001b[0m\u001b[1;33m\u001b[0m\u001b[0m\n\u001b[1;32m--> 170\u001b[1;33m                     \u001b[0moptimizer_weights_group\u001b[0m\u001b[1;33m.\u001b[0m\u001b[0mattrs\u001b[0m\u001b[1;33m[\u001b[0m\u001b[1;34m'weight_names'\u001b[0m\u001b[1;33m]\u001b[0m \u001b[1;33m=\u001b[0m \u001b[0mweight_names\u001b[0m\u001b[1;33m\u001b[0m\u001b[0m\n\u001b[0m\u001b[0;32m    171\u001b[0m                     \u001b[1;32mfor\u001b[0m \u001b[0mname\u001b[0m\u001b[1;33m,\u001b[0m \u001b[0mval\u001b[0m \u001b[1;32min\u001b[0m \u001b[0mzip\u001b[0m\u001b[1;33m(\u001b[0m\u001b[0mweight_names\u001b[0m\u001b[1;33m,\u001b[0m \u001b[0mweight_values\u001b[0m\u001b[1;33m)\u001b[0m\u001b[1;33m:\u001b[0m\u001b[1;33m\u001b[0m\u001b[0m\n\u001b[0;32m    172\u001b[0m                         param_dset = optimizer_weights_group.create_dataset(\n",
      "\u001b[1;32mh5py/_objects.pyx\u001b[0m in \u001b[0;36mh5py._objects.with_phil.wrapper (-------src-dir-------/h5py/_objects.c:2582)\u001b[1;34m()\u001b[0m\n",
      "\u001b[1;32mh5py/_objects.pyx\u001b[0m in \u001b[0;36mh5py._objects.with_phil.wrapper (-------src-dir-------/h5py/_objects.c:2541)\u001b[1;34m()\u001b[0m\n",
      "\u001b[1;32m/home/taojianjun/anaconda3/lib/python3.5/site-packages/h5py/_hl/attrs.py\u001b[0m in \u001b[0;36m__setitem__\u001b[1;34m(self, name, value)\u001b[0m\n\u001b[0;32m     91\u001b[0m         \u001b[0muse\u001b[0m \u001b[0mthe\u001b[0m \u001b[0mmethods\u001b[0m \u001b[0mcreate\u001b[0m\u001b[1;33m(\u001b[0m\u001b[1;33m)\u001b[0m \u001b[1;32mand\u001b[0m \u001b[0mmodify\u001b[0m\u001b[1;33m(\u001b[0m\u001b[1;33m)\u001b[0m\u001b[1;33m.\u001b[0m\u001b[1;33m\u001b[0m\u001b[0m\n\u001b[0;32m     92\u001b[0m         \"\"\"\n\u001b[1;32m---> 93\u001b[1;33m         \u001b[0mself\u001b[0m\u001b[1;33m.\u001b[0m\u001b[0mcreate\u001b[0m\u001b[1;33m(\u001b[0m\u001b[0mname\u001b[0m\u001b[1;33m,\u001b[0m \u001b[0mdata\u001b[0m\u001b[1;33m=\u001b[0m\u001b[0mvalue\u001b[0m\u001b[1;33m,\u001b[0m \u001b[0mdtype\u001b[0m\u001b[1;33m=\u001b[0m\u001b[0mbase\u001b[0m\u001b[1;33m.\u001b[0m\u001b[0mguess_dtype\u001b[0m\u001b[1;33m(\u001b[0m\u001b[0mvalue\u001b[0m\u001b[1;33m)\u001b[0m\u001b[1;33m)\u001b[0m\u001b[1;33m\u001b[0m\u001b[0m\n\u001b[0m\u001b[0;32m     94\u001b[0m \u001b[1;33m\u001b[0m\u001b[0m\n\u001b[0;32m     95\u001b[0m     \u001b[1;33m@\u001b[0m\u001b[0mwith_phil\u001b[0m\u001b[1;33m\u001b[0m\u001b[0m\n",
      "\u001b[1;32m/home/taojianjun/anaconda3/lib/python3.5/site-packages/h5py/_hl/attrs.py\u001b[0m in \u001b[0;36mcreate\u001b[1;34m(self, name, data, shape, dtype)\u001b[0m\n\u001b[0;32m    181\u001b[0m \u001b[1;33m\u001b[0m\u001b[0m\n\u001b[0;32m    182\u001b[0m             \u001b[1;32mtry\u001b[0m\u001b[1;33m:\u001b[0m\u001b[1;33m\u001b[0m\u001b[0m\n\u001b[1;32m--> 183\u001b[1;33m                 \u001b[0mattr\u001b[0m \u001b[1;33m=\u001b[0m \u001b[0mh5a\u001b[0m\u001b[1;33m.\u001b[0m\u001b[0mcreate\u001b[0m\u001b[1;33m(\u001b[0m\u001b[0mself\u001b[0m\u001b[1;33m.\u001b[0m\u001b[0m_id\u001b[0m\u001b[1;33m,\u001b[0m \u001b[0mself\u001b[0m\u001b[1;33m.\u001b[0m\u001b[0m_e\u001b[0m\u001b[1;33m(\u001b[0m\u001b[0mtempname\u001b[0m\u001b[1;33m)\u001b[0m\u001b[1;33m,\u001b[0m \u001b[0mhtype\u001b[0m\u001b[1;33m,\u001b[0m \u001b[0mspace\u001b[0m\u001b[1;33m)\u001b[0m\u001b[1;33m\u001b[0m\u001b[0m\n\u001b[0m\u001b[0;32m    184\u001b[0m             \u001b[1;32mexcept\u001b[0m\u001b[1;33m:\u001b[0m\u001b[1;33m\u001b[0m\u001b[0m\n\u001b[0;32m    185\u001b[0m                 \u001b[1;32mraise\u001b[0m\u001b[1;33m\u001b[0m\u001b[0m\n",
      "\u001b[1;32mh5py/_objects.pyx\u001b[0m in \u001b[0;36mh5py._objects.with_phil.wrapper (-------src-dir-------/h5py/_objects.c:2582)\u001b[1;34m()\u001b[0m\n",
      "\u001b[1;32mh5py/_objects.pyx\u001b[0m in \u001b[0;36mh5py._objects.with_phil.wrapper (-------src-dir-------/h5py/_objects.c:2541)\u001b[1;34m()\u001b[0m\n",
      "\u001b[1;32mh5py/h5a.pyx\u001b[0m in \u001b[0;36mh5py.h5a.create (-------src-dir-------/h5py/h5a.c:1812)\u001b[1;34m()\u001b[0m\n",
      "\u001b[1;31mRuntimeError\u001b[0m: Unable to create attribute (Object header message is too large)"
     ]
    }
   ],
   "source": [
    "model.save_weights('model_nasnet_weights.h5')"
   ]
  },
  {
   "cell_type": "code",
   "execution_count": 20,
   "metadata": {
    "ExecuteTime": {
     "end_time": "2018-04-07T23:01:37.022671Z",
     "start_time": "2018-04-07T22:58:53.276890Z"
    },
    "collapsed": false
   },
   "outputs": [
    {
     "name": "stdout",
     "output_type": "stream",
     "text": [
      "8969/8969 [==============================] - 510s 57ms/step\n",
      "collar_design 0.861575178998\n",
      "lapel_design 0.886956521739\n",
      "pant_length 0.877551020408\n",
      "neck_design 0.817223198594\n",
      "skirt_length 0.925465838509\n",
      "coat_length 0.85342584562\n",
      "sleeve_length 0.9\n",
      "neckline_design 0.867595818815\n"
     ]
    }
   ],
   "source": [
    "y_pred = model.predict(X_valid, batch_size=16, verbose=1)\n",
    "a = np.array([x.any(axis=-1) for x in y_valid]).T.astype('uint8')\n",
    "b = [np.where((a == np.eye(8)[x]).all(axis=-1))[0] for x in range(8)]\n",
    "for c in range(8):\n",
    "    y_pred2 = y_pred[c][b[c]].argmax(axis=-1)\n",
    "    y_true2 = y_valid[c][b[c]].argmax(axis=-1)\n",
    "    print(label_names[c], (y_pred2 == y_true2).mean())"
   ]
  },
  {
   "cell_type": "code",
   "execution_count": null,
   "metadata": {
    "collapsed": true
   },
   "outputs": [],
   "source": []
  },
  {
   "cell_type": "code",
   "execution_count": 21,
   "metadata": {
    "ExecuteTime": {
     "end_time": "2018-04-07T23:01:37.038867Z",
     "start_time": "2018-04-07T23:01:37.025054Z"
    },
    "collapsed": false
   },
   "outputs": [
    {
     "data": {
      "text/plain": [
       "Counter({'coat_length': 11320,\n",
       "         'collar_design': 8393,\n",
       "         'lapel_design': 7034,\n",
       "         'neck_design': 5696,\n",
       "         'neckline_design': 17148,\n",
       "         'pant_length': 7460,\n",
       "         'skirt_length': 19333,\n",
       "         'sleeve_length': 13299})"
      ]
     },
     "execution_count": 21,
     "metadata": {},
     "output_type": "execute_result"
    }
   ],
   "source": [
    "counts = Counter(df.label_name)\n",
    "counts"
   ]
  },
  {
   "cell_type": "code",
   "execution_count": 22,
   "metadata": {
    "ExecuteTime": {
     "end_time": "2018-04-07T23:01:37.050973Z",
     "start_time": "2018-04-07T23:01:37.040700Z"
    },
    "collapsed": false
   },
   "outputs": [
    {
     "name": "stdout",
     "output_type": "stream",
     "text": [
      "0.881671346097\n"
     ]
    }
   ],
   "source": [
    "s = 0\n",
    "n = 0\n",
    "for c in range(8):\n",
    "    y_pred2 = y_pred[c][b[c]].argmax(axis=-1)\n",
    "    y_true2 = y_valid[c][b[c]].argmax(axis=-1)\n",
    "    s += counts[label_names[c]] * (y_pred2 == y_true2).mean()\n",
    "    n += counts[label_names[c]]\n",
    "print(s / n)"
   ]
  }
 ],
 "metadata": {
  "anaconda-cloud": {},
  "kernelspec": {
   "display_name": "Python [Root]",
   "language": "python",
   "name": "Python [Root]"
  },
  "language_info": {
   "codemirror_mode": {
    "name": "ipython",
    "version": 3
   },
   "file_extension": ".py",
   "mimetype": "text/x-python",
   "name": "python",
   "nbconvert_exporter": "python",
   "pygments_lexer": "ipython3",
   "version": "3.5.2"
  },
  "toc": {
   "nav_menu": {},
   "number_sections": true,
   "sideBar": true,
   "skip_h1_title": false,
   "toc_cell": false,
   "toc_position": {},
   "toc_section_display": "block",
   "toc_window_display": false
  },
  "varInspector": {
   "cols": {
    "lenName": "40",
    "lenType": 16,
    "lenVar": 40
   },
   "kernels_config": {
    "python": {
     "delete_cmd_postfix": "",
     "delete_cmd_prefix": "del ",
     "library": "var_list.py",
     "varRefreshCmd": "print(var_dic_list())"
    },
    "r": {
     "delete_cmd_postfix": ") ",
     "delete_cmd_prefix": "rm(",
     "library": "var_list.r",
     "varRefreshCmd": "cat(var_dic_list()) "
    }
   },
   "position": {
    "height": "456px",
    "left": "980px",
    "right": "20px",
    "top": "134px",
    "width": "521px"
   },
   "types_to_exclude": [
    "module",
    "function",
    "builtin_function_or_method",
    "instance",
    "_Feature"
   ],
   "window_display": false
  }
 },
 "nbformat": 4,
 "nbformat_minor": 2
}
