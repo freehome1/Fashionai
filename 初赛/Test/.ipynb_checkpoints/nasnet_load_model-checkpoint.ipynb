{
 "cells": [
  {
   "cell_type": "code",
   "execution_count": 1,
   "metadata": {
    "ExecuteTime": {
     "end_time": "2018-04-07T17:23:15.079234Z",
     "start_time": "2018-04-07T17:23:14.228909Z"
    },
    "collapsed": false
   },
   "outputs": [
    {
     "name": "stderr",
     "output_type": "stream",
     "text": [
      "Using TensorFlow backend.\n"
     ]
    }
   ],
   "source": [
    "import os\n",
    "os.environ['CUDA_VISIBLE_DEVICES'] = '0'\n",
    "n_gpus = 1\n",
    "model_name = 'inceptionresnetv2_fine_tuning_8clf_2'\n",
    "\n",
    "import keras.backend as K\n",
    "import tensorflow as tf\n",
    "\n",
    "# gpu_options = tf.GPUOptions(per_process_gpu_memory_fraction=0.3)\n",
    "# sess = tf.Session(config=tf.ConfigProto(gpu_options=gpu_options))"
   ]
  },
  {
   "cell_type": "markdown",
   "metadata": {},
   "source": [
    "# 导入必要的库"
   ]
  },
  {
   "cell_type": "code",
   "execution_count": 2,
   "metadata": {
    "ExecuteTime": {
     "end_time": "2018-04-07T17:23:15.316079Z",
     "start_time": "2018-04-07T17:23:15.080390Z"
    },
    "collapsed": false
   },
   "outputs": [
    {
     "name": "stderr",
     "output_type": "stream",
     "text": [
      "/home/taojianjun/anaconda3/lib/python3.5/site-packages/sklearn/cross_validation.py:41: DeprecationWarning: This module was deprecated in version 0.18 in favor of the model_selection module into which all the refactored classes and functions are moved. Also note that the interface of the new CV iterators are different from that of this module. This module will be removed in 0.20.\n",
      "  \"This module will be removed in 0.20.\", DeprecationWarning)\n"
     ]
    }
   ],
   "source": [
    "import numpy as np\n",
    "import pandas as pd\n",
    "from keras.layers import *\n",
    "from keras.models import *\n",
    "from keras.optimizers import *\n",
    "from keras.applications import *\n",
    "from keras.regularizers import l2\n",
    "\n",
    "from keras.preprocessing.image import *\n",
    "\n",
    "import matplotlib.pyplot as plt\n",
    "import random\n",
    "import os\n",
    "import cv2\n",
    "from tqdm import tqdm\n",
    "from glob import glob\n",
    "import multiprocessing\n",
    "\n",
    "from sklearn.cross_validation import train_test_split\n",
    "from collections import Counter\n",
    "from keras import backend as K\n",
    "from keras.utils import multi_gpu_model\n",
    "\n",
    "from IPython.display import display, Image\n",
    "\n",
    "%matplotlib inline\n",
    "%config InlineBackend.figure_format = 'retina'"
   ]
  },
  {
   "cell_type": "markdown",
   "metadata": {},
   "source": [
    "# 读取数据集"
   ]
  },
  {
   "cell_type": "code",
   "execution_count": 3,
   "metadata": {
    "ExecuteTime": {
     "end_time": "2018-04-07T17:23:15.472275Z",
     "start_time": "2018-04-07T17:23:15.317186Z"
    },
    "collapsed": false
   },
   "outputs": [
    {
     "data": {
      "text/html": [
       "<div>\n",
       "<style>\n",
       "    .dataframe thead tr:only-child th {\n",
       "        text-align: right;\n",
       "    }\n",
       "\n",
       "    .dataframe thead th {\n",
       "        text-align: left;\n",
       "    }\n",
       "\n",
       "    .dataframe tbody tr th {\n",
       "        vertical-align: top;\n",
       "    }\n",
       "</style>\n",
       "<table border=\"1\" class=\"dataframe\">\n",
       "  <thead>\n",
       "    <tr style=\"text-align: right;\">\n",
       "      <th></th>\n",
       "      <th>filename</th>\n",
       "      <th>label_name</th>\n",
       "      <th>label</th>\n",
       "    </tr>\n",
       "  </thead>\n",
       "  <tbody>\n",
       "    <tr>\n",
       "      <th>0</th>\n",
       "      <td>Images/neckline_design_labels/1db2ec51497b10b0...</td>\n",
       "      <td>neckline_design</td>\n",
       "      <td>nnynnnnnnn</td>\n",
       "    </tr>\n",
       "    <tr>\n",
       "      <th>1</th>\n",
       "      <td>Images/neckline_design_labels/b36dbed87c6b16d4...</td>\n",
       "      <td>neckline_design</td>\n",
       "      <td>nnnnnnnnyn</td>\n",
       "    </tr>\n",
       "    <tr>\n",
       "      <th>2</th>\n",
       "      <td>Images/coat_length_labels/5549f0164e2556ad4050...</td>\n",
       "      <td>coat_length</td>\n",
       "      <td>nnnnnynn</td>\n",
       "    </tr>\n",
       "    <tr>\n",
       "      <th>3</th>\n",
       "      <td>Images/sleeve_length_labels/24f543d99020376dd4...</td>\n",
       "      <td>sleeve_length</td>\n",
       "      <td>nnnnnnnyn</td>\n",
       "    </tr>\n",
       "    <tr>\n",
       "      <th>4</th>\n",
       "      <td>Images/lapel_design_labels/4f3dcaf18d84ddb6d0e...</td>\n",
       "      <td>lapel_design</td>\n",
       "      <td>ynnnn</td>\n",
       "    </tr>\n",
       "  </tbody>\n",
       "</table>\n",
       "</div>"
      ],
      "text/plain": [
       "                                            filename       label_name  \\\n",
       "0  Images/neckline_design_labels/1db2ec51497b10b0...  neckline_design   \n",
       "1  Images/neckline_design_labels/b36dbed87c6b16d4...  neckline_design   \n",
       "2  Images/coat_length_labels/5549f0164e2556ad4050...      coat_length   \n",
       "3  Images/sleeve_length_labels/24f543d99020376dd4...    sleeve_length   \n",
       "4  Images/lapel_design_labels/4f3dcaf18d84ddb6d0e...     lapel_design   \n",
       "\n",
       "        label  \n",
       "0  nnynnnnnnn  \n",
       "1  nnnnnnnnyn  \n",
       "2    nnnnnynn  \n",
       "3   nnnnnnnyn  \n",
       "4       ynnnn  "
      ]
     },
     "metadata": {},
     "output_type": "display_data"
    },
    {
     "data": {
      "text/plain": [
       "Counter({'coat_length': 11320,\n",
       "         'collar_design': 8393,\n",
       "         'lapel_design': 7034,\n",
       "         'neck_design': 5696,\n",
       "         'neckline_design': 17148,\n",
       "         'pant_length': 7460,\n",
       "         'skirt_length': 19333,\n",
       "         'sleeve_length': 13299})"
      ]
     },
     "execution_count": 3,
     "metadata": {},
     "output_type": "execute_result"
    }
   ],
   "source": [
    "df = pd.read_csv('/ext/fashionai/Gluon-FashionAI-Attributes-master/data/base/Annotations/label.csv', header=None)\n",
    "df.columns = ['filename', 'label_name', 'label']\n",
    "df = df.sample(frac=1).reset_index(drop=True) # shuffle\n",
    "\n",
    "df.label_name = df.label_name.str.replace('_labels', '')\n",
    "\n",
    "display(df.head())\n",
    "c = Counter(df.label_name)\n",
    "c"
   ]
  },
  {
   "cell_type": "code",
   "execution_count": 4,
   "metadata": {
    "ExecuteTime": {
     "end_time": "2018-04-07T17:23:15.523937Z",
     "start_time": "2018-04-07T17:23:15.474352Z"
    },
    "code_folding": [],
    "collapsed": false
   },
   "outputs": [
    {
     "data": {
      "text/plain": [
       "{'coat_length': 8,\n",
       " 'collar_design': 5,\n",
       " 'lapel_design': 5,\n",
       " 'neck_design': 5,\n",
       " 'neckline_design': 10,\n",
       " 'pant_length': 6,\n",
       " 'skirt_length': 6,\n",
       " 'sleeve_length': 9}"
      ]
     },
     "metadata": {},
     "output_type": "display_data"
    }
   ],
   "source": [
    "label_count = dict([(x, len(df[df.label_name == x].label.values[0])) for x in c.keys()])\n",
    "label_names = list(label_count.keys())\n",
    "display(label_count)"
   ]
  },
  {
   "cell_type": "markdown",
   "metadata": {},
   "source": [
    "## 生成 y"
   ]
  },
  {
   "cell_type": "code",
   "execution_count": 5,
   "metadata": {
    "ExecuteTime": {
     "end_time": "2018-04-07T17:23:17.137384Z",
     "start_time": "2018-04-07T17:23:15.524971Z"
    },
    "collapsed": true
   },
   "outputs": [],
   "source": [
    "fnames = df['filename'].values\n",
    "width = 331\n",
    "n = len(df)\n",
    "y = [np.zeros((n, label_count[x])) for x in label_count.keys()]\n",
    "for i in range(n):\n",
    "    label_name = df.label_name[i]\n",
    "    label = df.label[i]\n",
    "    y[label_names.index(label_name)][i, label.find('y')] = 1"
   ]
  },
  {
   "cell_type": "markdown",
   "metadata": {},
   "source": [
    "## 读取图片"
   ]
  },
  {
   "cell_type": "code",
   "execution_count": 6,
   "metadata": {
    "ExecuteTime": {
     "end_time": "2018-04-07T17:24:15.086526Z",
     "start_time": "2018-04-07T17:23:17.140308Z"
    },
    "code_folding": [],
    "collapsed": false
   },
   "outputs": [
    {
     "name": "stderr",
     "output_type": "stream",
     "text": [
      "100%|██████████| 89683/89683 [01:11<00:00, 1251.18it/s]\n"
     ]
    }
   ],
   "source": [
    "def f(index):\n",
    "    return index, cv2.resize(cv2.imread('/ext/fashionai/Gluon-FashionAI-Attributes-master/data/base/'+fnames[index]), (width, width))\n",
    "\n",
    "X = np.zeros((n, width, width, 3), dtype=np.uint8)\n",
    "with multiprocessing.Pool(32) as pool:\n",
    "    with tqdm(pool.imap_unordered(f, range(n)), total=n) as pbar:\n",
    "        for i, img in pbar:\n",
    "            X[i] = img[:,:,::-1]"
   ]
  },
  {
   "cell_type": "code",
   "execution_count": 7,
   "metadata": {
    "ExecuteTime": {
     "end_time": "2018-04-07T17:24:15.093182Z",
     "start_time": "2018-04-07T17:24:15.088621Z"
    },
    "collapsed": true
   },
   "outputs": [],
   "source": [
    "n_train = int(n*0.9)\n",
    "X_train = X[:n_train]\n",
    "X_valid = X[n_train:]\n",
    "y_train = [x[:n_train] for x in y]\n",
    "y_valid = [x[n_train:] for x in y]"
   ]
  },
  {
   "cell_type": "code",
   "execution_count": 8,
   "metadata": {
    "ExecuteTime": {
     "end_time": "2018-04-07T17:24:15.099505Z",
     "start_time": "2018-04-07T17:24:15.094585Z"
    },
    "collapsed": true
   },
   "outputs": [],
   "source": [
    "def display_images(imgs, w=8, h=4, figsize=(24, 12)):\n",
    "    plt.figure(figsize=figsize)\n",
    "    for i in range(w*h):\n",
    "        plt.subplot(h, w, i+1)\n",
    "        plt.imshow(imgs[i])"
   ]
  },
  {
   "cell_type": "code",
   "execution_count": 9,
   "metadata": {
    "ExecuteTime": {
     "end_time": "2018-04-07T17:24:15.116015Z",
     "start_time": "2018-04-07T17:24:15.100880Z"
    },
    "collapsed": true
   },
   "outputs": [],
   "source": [
    "class Generator():\n",
    "    def __init__(self, X, y, batch_size=8, aug=False):\n",
    "        def generator():\n",
    "            idg = ImageDataGenerator(horizontal_flip=True,\n",
    "                                     rotation_range=20,\n",
    "                                     zoom_range=0.2)\n",
    "            while True:\n",
    "                for i in range(0, len(X), batch_size):\n",
    "                    X_batch = X[i:i+batch_size].copy()\n",
    "                    y_barch = [x[i:i+batch_size] for x in y]\n",
    "                    if aug:\n",
    "                        for j in range(len(X_batch)):\n",
    "                            X_batch[j] = idg.random_transform(X_batch[j])\n",
    "                    yield X_batch, y_barch\n",
    "        self.generator = generator()\n",
    "        self.steps = len(X) // batch_size + 1"
   ]
  },
  {
   "cell_type": "code",
   "execution_count": 10,
   "metadata": {
    "ExecuteTime": {
     "end_time": "2018-04-07T17:24:15.123929Z",
     "start_time": "2018-04-07T17:24:15.117484Z"
    },
    "collapsed": true
   },
   "outputs": [],
   "source": [
    "gen_train = Generator(X_train, y_train, batch_size=8, aug=True)"
   ]
  },
  {
   "cell_type": "markdown",
   "metadata": {},
   "source": [
    "# 数据集探索\n",
    "\n",
    "## 类别分布"
   ]
  },
  {
   "cell_type": "code",
   "execution_count": 11,
   "metadata": {
    "ExecuteTime": {
     "end_time": "2018-04-07T17:24:15.130162Z",
     "start_time": "2018-04-07T17:24:15.125259Z"
    },
    "collapsed": true
   },
   "outputs": [],
   "source": [
    "# plt.figure(figsize=(26, 14))\n",
    "# for i in range(8):\n",
    "#     plt.subplot(2, 4, i+1)\n",
    "#     counts = Counter(y[i].argmax(axis=-1)[np.where(y[i].any(axis=-1))])\n",
    "#     pd.Series(counts).plot('bar')"
   ]
  },
  {
   "cell_type": "markdown",
   "metadata": {},
   "source": [
    "### 抽样可视化"
   ]
  },
  {
   "cell_type": "code",
   "execution_count": 12,
   "metadata": {
    "ExecuteTime": {
     "end_time": "2018-04-07T17:24:15.138224Z",
     "start_time": "2018-04-07T17:24:15.131739Z"
    },
    "collapsed": true
   },
   "outputs": [],
   "source": [
    "# plt.figure(figsize=(26, 14))\n",
    "# w = 8\n",
    "# h = 4\n",
    "# for i in range(w*h):\n",
    "#     plt.subplot(h, w, i+1)\n",
    "#     index = np.random.randint(n)\n",
    "#     plt.title(str([y[x][index].argmax() if y[x][index].any() else -1 for x in range(8) ]))\n",
    "#     plt.imshow(X[index])\n",
    "#     plt.axis('off')"
   ]
  },
  {
   "cell_type": "markdown",
   "metadata": {},
   "source": [
    "# 搭建模型并训练\n",
    "\n",
    "## 搭建模型"
   ]
  },
  {
   "cell_type": "code",
   "execution_count": 13,
   "metadata": {
    "ExecuteTime": {
     "end_time": "2018-04-07T17:24:15.145368Z",
     "start_time": "2018-04-07T17:24:15.139606Z"
    },
    "collapsed": true
   },
   "outputs": [],
   "source": [
    "def acc(y_true, y_pred):\n",
    "    index = tf.reduce_any(y_true > 0.5, axis=-1)\n",
    "    res = tf.equal(tf.argmax(y_true, axis=-1), tf.argmax(y_pred, axis=-1))\n",
    "    index = tf.cast(index, tf.float32)\n",
    "    res = tf.cast(res, tf.float32)\n",
    "    return tf.reduce_sum(res * index) / (tf.reduce_sum(index) + 1e-7)"
   ]
  },
  {
   "cell_type": "code",
   "execution_count": 14,
   "metadata": {
    "ExecuteTime": {
     "end_time": "2018-04-07T17:25:14.609365Z",
     "start_time": "2018-04-07T17:24:15.146696Z"
    },
    "collapsed": false
   },
   "outputs": [],
   "source": [
    "base_model = InceptionResNetV2(weights='imagenet', input_shape=(width, width, 3), include_top=False, pooling='avg')\n",
    "input_tensor = Input((width, width, 3))\n",
    "x = input_tensor\n",
    "x = Lambda(inception_resnet_v2.preprocess_input)(x)\n",
    "x = base_model(x)\n",
    "x = Dropout(0.5)(x)\n",
    "x = [Dense(count, activation='softmax', name=name)(x) for name, count in label_count.items()]\n",
    "model = Model(input_tensor, x)\n",
    "model.load_weights('/ext/fashionai/Gluon-FashionAI-Attributes-master/model_nasnet_weights.h5', by_name = True)\n",
    "# model.compile(optimizer='adam', loss='categorical_crossentropy', metrics=['acc'])\n",
    "\n",
    "# from IPython.display import SVG\n",
    "# from keras.utils.vis_utils import model_to_dot, plot_model\n",
    "\n",
    "# plot_model(model, show_shapes=True, to_file='model_simple.png')\n",
    "# SVG(model_to_dot(model, show_shapes=True).create(prog='dot', format='svg'))"
   ]
  },
  {
   "cell_type": "code",
   "execution_count": 15,
   "metadata": {
    "ExecuteTime": {
     "end_time": "2018-04-07T17:27:36.541858Z",
     "start_time": "2018-04-07T17:25:14.610710Z"
    },
    "collapsed": false
   },
   "outputs": [],
   "source": [
    "# model2 = multi_gpu_model(model, n_gpus)"
   ]
  },
  {
   "cell_type": "code",
   "execution_count": 16,
   "metadata": {
    "ExecuteTime": {
     "end_time": "2018-04-07T17:27:36.545662Z",
     "start_time": "2018-04-07T17:27:36.543513Z"
    },
    "collapsed": true
   },
   "outputs": [],
   "source": [
    "# opt = SGD(1e-3, momentum=0.9, nesterov=True, decay=1e-5)"
   ]
  },
  {
   "cell_type": "markdown",
   "metadata": {},
   "source": [
    "# 计算验证集准确率"
   ]
  },
  {
   "cell_type": "code",
   "execution_count": 17,
   "metadata": {
    "ExecuteTime": {
     "end_time": "2018-04-07T23:01:37.022671Z",
     "start_time": "2018-04-07T22:58:53.276890Z"
    },
    "collapsed": false
   },
   "outputs": [
    {
     "name": "stdout",
     "output_type": "stream",
     "text": [
      "8969/8969 [==============================] - 217s 24ms/step\n",
      "skirt_length 0.962577962578\n",
      "sleeve_length 0.954209748892\n",
      "pant_length 0.933609958506\n",
      "collar_design 0.922363847045\n",
      "lapel_design 0.95\n",
      "neck_design 0.91621129326\n",
      "coat_length 0.929180887372\n",
      "neckline_design 0.917067307692\n"
     ]
    }
   ],
   "source": [
    "y_pred = model.predict(X_valid, batch_size=64, verbose=1)\n",
    "a = np.array([x.any(axis=-1) for x in y_valid]).T.astype('uint8')\n",
    "b = [np.where((a == np.eye(8)[x]).all(axis=-1))[0] for x in range(8)]\n",
    "for c in range(8):\n",
    "    y_pred2 = y_pred[c][b[c]].argmax(axis=-1)\n",
    "    y_true2 = y_valid[c][b[c]].argmax(axis=-1)\n",
    "    print(label_names[c], (y_pred2 == y_true2).mean())"
   ]
  },
  {
   "cell_type": "code",
   "execution_count": null,
   "metadata": {
    "collapsed": true
   },
   "outputs": [],
   "source": []
  },
  {
   "cell_type": "code",
   "execution_count": 18,
   "metadata": {
    "ExecuteTime": {
     "end_time": "2018-04-07T23:01:37.038867Z",
     "start_time": "2018-04-07T23:01:37.025054Z"
    },
    "collapsed": false
   },
   "outputs": [
    {
     "data": {
      "text/plain": [
       "Counter({'coat_length': 11320,\n",
       "         'collar_design': 8393,\n",
       "         'lapel_design': 7034,\n",
       "         'neck_design': 5696,\n",
       "         'neckline_design': 17148,\n",
       "         'pant_length': 7460,\n",
       "         'skirt_length': 19333,\n",
       "         'sleeve_length': 13299})"
      ]
     },
     "execution_count": 18,
     "metadata": {},
     "output_type": "execute_result"
    }
   ],
   "source": [
    "counts = Counter(df.label_name)\n",
    "counts"
   ]
  },
  {
   "cell_type": "code",
   "execution_count": 19,
   "metadata": {
    "ExecuteTime": {
     "end_time": "2018-04-07T23:01:37.050973Z",
     "start_time": "2018-04-07T23:01:37.040700Z"
    },
    "collapsed": false
   },
   "outputs": [
    {
     "name": "stdout",
     "output_type": "stream",
     "text": [
      "0.938315206043\n"
     ]
    }
   ],
   "source": [
    "s = 0\n",
    "n = 0\n",
    "for c in range(8):\n",
    "    y_pred2 = y_pred[c][b[c]].argmax(axis=-1)\n",
    "    y_true2 = y_valid[c][b[c]].argmax(axis=-1)\n",
    "    s += counts[label_names[c]] * (y_pred2 == y_true2).mean()\n",
    "    n += counts[label_names[c]]\n",
    "print(s / n)"
   ]
  },
  {
   "cell_type": "markdown",
   "metadata": {},
   "source": [
    "# 在测试集上预测"
   ]
  },
  {
   "cell_type": "code",
   "execution_count": 20,
   "metadata": {
    "ExecuteTime": {
     "end_time": "2018-04-07T23:01:37.075633Z",
     "start_time": "2018-04-07T23:01:37.052291Z"
    },
    "collapsed": false
   },
   "outputs": [
    {
     "data": {
      "text/html": [
       "<div>\n",
       "<style>\n",
       "    .dataframe thead tr:only-child th {\n",
       "        text-align: right;\n",
       "    }\n",
       "\n",
       "    .dataframe thead th {\n",
       "        text-align: left;\n",
       "    }\n",
       "\n",
       "    .dataframe tbody tr th {\n",
       "        vertical-align: top;\n",
       "    }\n",
       "</style>\n",
       "<table border=\"1\" class=\"dataframe\">\n",
       "  <thead>\n",
       "    <tr style=\"text-align: right;\">\n",
       "      <th></th>\n",
       "      <th>filename</th>\n",
       "      <th>label_name</th>\n",
       "      <th>label</th>\n",
       "    </tr>\n",
       "  </thead>\n",
       "  <tbody>\n",
       "    <tr>\n",
       "      <th>0</th>\n",
       "      <td>Images/collar_design_labels/faad3490a16c7f3d4f...</td>\n",
       "      <td>collar_design_labels</td>\n",
       "      <td>?</td>\n",
       "    </tr>\n",
       "    <tr>\n",
       "      <th>1</th>\n",
       "      <td>Images/collar_design_labels/0b2b4254f35ce3a41a...</td>\n",
       "      <td>collar_design_labels</td>\n",
       "      <td>?</td>\n",
       "    </tr>\n",
       "    <tr>\n",
       "      <th>2</th>\n",
       "      <td>Images/collar_design_labels/7f2be608e06f804dd5...</td>\n",
       "      <td>collar_design_labels</td>\n",
       "      <td>?</td>\n",
       "    </tr>\n",
       "    <tr>\n",
       "      <th>3</th>\n",
       "      <td>Images/collar_design_labels/4b09d4dca80caac42e...</td>\n",
       "      <td>collar_design_labels</td>\n",
       "      <td>?</td>\n",
       "    </tr>\n",
       "    <tr>\n",
       "      <th>4</th>\n",
       "      <td>Images/collar_design_labels/de91f00a05e84d7239...</td>\n",
       "      <td>collar_design_labels</td>\n",
       "      <td>?</td>\n",
       "    </tr>\n",
       "  </tbody>\n",
       "</table>\n",
       "</div>"
      ],
      "text/plain": [
       "                                            filename            label_name  \\\n",
       "0  Images/collar_design_labels/faad3490a16c7f3d4f...  collar_design_labels   \n",
       "1  Images/collar_design_labels/0b2b4254f35ce3a41a...  collar_design_labels   \n",
       "2  Images/collar_design_labels/7f2be608e06f804dd5...  collar_design_labels   \n",
       "3  Images/collar_design_labels/4b09d4dca80caac42e...  collar_design_labels   \n",
       "4  Images/collar_design_labels/de91f00a05e84d7239...  collar_design_labels   \n",
       "\n",
       "  label  \n",
       "0     ?  \n",
       "1     ?  \n",
       "2     ?  \n",
       "3     ?  \n",
       "4     ?  "
      ]
     },
     "execution_count": 20,
     "metadata": {},
     "output_type": "execute_result"
    }
   ],
   "source": [
    "df_test = pd.read_csv('/ext/fashionai/Gluon-FashionAI-Attributes-master/data/z_rank/Tests/question.csv', header=None)\n",
    "df_test.columns = ['filename', 'label_name', 'label']\n",
    "\n",
    "fnames_test = df_test.filename\n",
    "\n",
    "n_test = len(df_test)\n",
    "df_test.head()"
   ]
  },
  {
   "cell_type": "code",
   "execution_count": 21,
   "metadata": {
    "ExecuteTime": {
     "end_time": "2018-04-07T23:01:53.661369Z",
     "start_time": "2018-04-07T23:01:37.077016Z"
    },
    "collapsed": false
   },
   "outputs": [
    {
     "name": "stderr",
     "output_type": "stream",
     "text": [
      "100%|██████████| 15042/15042 [00:24<00:00, 622.11it/s]\n"
     ]
    }
   ],
   "source": [
    "def f(index):\n",
    "    return index, cv2.resize(cv2.imread('/ext/fashionai/Gluon-FashionAI-Attributes-master/data/z_rank/'+fnames_test[index]), (width, width))\n",
    "\n",
    "X_test = np.zeros((n_test, width, width, 3), dtype=np.uint8)\n",
    "with multiprocessing.Pool(12) as pool:\n",
    "    with tqdm(pool.imap_unordered(f, range(n_test)), total=n_test) as pbar:\n",
    "        for i, img in pbar:\n",
    "            X_test[i] = img[:,:,::-1]"
   ]
  },
  {
   "cell_type": "code",
   "execution_count": 22,
   "metadata": {
    "ExecuteTime": {
     "end_time": "2018-04-07T23:03:12.008784Z",
     "start_time": "2018-04-07T23:01:53.664178Z"
    },
    "collapsed": false
   },
   "outputs": [
    {
     "name": "stdout",
     "output_type": "stream",
     "text": [
      "15042/15042 [==============================] - 358s 24ms/step\n"
     ]
    }
   ],
   "source": [
    "y_pred = model.predict(X_test, batch_size=64, verbose=1)"
   ]
  },
  {
   "cell_type": "code",
   "execution_count": 23,
   "metadata": {
    "ExecuteTime": {
     "end_time": "2018-04-07T23:03:13.281597Z",
     "start_time": "2018-04-07T23:03:12.009929Z"
    },
    "collapsed": true
   },
   "outputs": [],
   "source": [
    "for i in range(n_test):\n",
    "    problem_name = df_test.label_name[i].replace('_labels', '')\n",
    "    problem_index = label_names.index(problem_name)\n",
    "    probs = y_pred[problem_index][i]\n",
    "    df_test.label[i] = ';'.join(np.char.mod('%.8f', probs))"
   ]
  },
  {
   "cell_type": "code",
   "execution_count": 24,
   "metadata": {
    "ExecuteTime": {
     "end_time": "2018-04-07T23:03:13.360156Z",
     "start_time": "2018-04-07T23:03:13.282708Z"
    },
    "collapsed": true
   },
   "outputs": [],
   "source": [
    "fname_csv = 'pred_nasnet.csv'\n",
    "df_test.to_csv(fname_csv, index=None, header=None)"
   ]
  },
  {
   "cell_type": "code",
   "execution_count": null,
   "metadata": {
    "collapsed": true
   },
   "outputs": [],
   "source": []
  }
 ],
 "metadata": {
  "anaconda-cloud": {},
  "kernelspec": {
   "display_name": "Python [Root]",
   "language": "python",
   "name": "Python [Root]"
  },
  "language_info": {
   "codemirror_mode": {
    "name": "ipython",
    "version": 3
   },
   "file_extension": ".py",
   "mimetype": "text/x-python",
   "name": "python",
   "nbconvert_exporter": "python",
   "pygments_lexer": "ipython3",
   "version": "3.5.2"
  },
  "toc": {
   "nav_menu": {},
   "number_sections": true,
   "sideBar": true,
   "skip_h1_title": false,
   "toc_cell": false,
   "toc_position": {},
   "toc_section_display": "block",
   "toc_window_display": false
  },
  "varInspector": {
   "cols": {
    "lenName": "40",
    "lenType": 16,
    "lenVar": 40
   },
   "kernels_config": {
    "python": {
     "delete_cmd_postfix": "",
     "delete_cmd_prefix": "del ",
     "library": "var_list.py",
     "varRefreshCmd": "print(var_dic_list())"
    },
    "r": {
     "delete_cmd_postfix": ") ",
     "delete_cmd_prefix": "rm(",
     "library": "var_list.r",
     "varRefreshCmd": "cat(var_dic_list()) "
    }
   },
   "position": {
    "height": "456px",
    "left": "980px",
    "right": "20px",
    "top": "134px",
    "width": "521px"
   },
   "types_to_exclude": [
    "module",
    "function",
    "builtin_function_or_method",
    "instance",
    "_Feature"
   ],
   "window_display": false
  }
 },
 "nbformat": 4,
 "nbformat_minor": 2
}
